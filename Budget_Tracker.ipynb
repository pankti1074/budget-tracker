{
 "cells": [
  {
   "cell_type": "code",
   "execution_count": 3,
   "id": "cd290c67-a18c-46a0-b151-8f661e6252f0",
   "metadata": {},
   "outputs": [],
   "source": [
    "import pandas as pd\n",
    "import matplotlib.pyplot as plt"
   ]
  },
  {
   "cell_type": "code",
   "execution_count": null,
   "id": "14245d43-2b62-4a42-815b-352b6516b050",
   "metadata": {},
   "outputs": [
    {
     "name": "stdout",
     "output_type": "stream",
     "text": [
      "Hi! This is a budget tracker application.\n",
      "All you gotta do is feed in your budget and keep adding your expenses using \"add(data)\" every time you want to track your expenses.\n"
     ]
    }
   ],
   "source": [
    "print('Hi! This is a budget tracker application.\\nAll you gotta do is feed in your budget and keep adding your expenses using \"add(data)\" every time you want to track your expenses.')\n",
    "data= {\n",
    "    'monthly_budget' : float(input('Enter your monthly budget: ')),\n",
    "    'budget_left':0,\n",
    "    'names' :[],\n",
    "    'amounts' :[],\n",
    "    'categories': [],\n",
    "    'dates' : []}\n",
    "\n",
    "data['budget_left'] = data['monthly_budget']\n",
    "\n",
    "categorylist = {1:'Food', 2:'Shopping', 3:'Bills', 4:'Transport',5:'Others'}\n",
    "\n",
    "def add(data):\n",
    "    expenses = int(input('\\nHow many expenses do you want to enter?'))\n",
    "\n",
    "    for i in range(expenses):\n",
    "        print(f'\\nExpense {i + 1}:')\n",
    "        name = input('Expense name:')\n",
    "        amount = float(input('Amount:'))\n",
    "        date = input('Date (DD-MM):')\n",
    "\n",
    "        print('Choose a category:')\n",
    "        print(\"1. Food\\n2. Shopping\\n3. Bills\\n4. Transport\\n5. Others\")\n",
    "        \n",
    "        while True:\n",
    "           try:\n",
    "              cat_index = int(input('Enter number for category: '))\n",
    "              if cat_index in categorylist:\n",
    "                 category = categorylist[cat_index]\n",
    "                 break\n",
    "              else:\n",
    "                 print('Please enter a valid category number')\n",
    "           except:\n",
    "              print('Please enter a number from 1 to 5')\n",
    "\n",
    "        data['names'].append(name)\n",
    "        data['amounts'].append(amount)\n",
    "        data['categories'].append(category)\n",
    "        data['dates'].append(date)\n",
    "\n",
    "        data['budget_left'] -= amount\n",
    "\n",
    "    df = pd.DataFrame({\n",
    "        'Name': data['names'],\n",
    "        'Amount': data['amounts'],\n",
    "        'Category': data['categories'],\n",
    "        'Date': data['dates']  })\n",
    "\n",
    "    \n",
    "    df.to_csv(\"budget_tracker.csv\")\n",
    "\n",
    "    totals = {\"Food\": 0, \"Shopping\": 0, \"Bills\": 0, \"Transport\": 0, \"Others\": 0}\n",
    "    for i in range(len(data['categories'])):\n",
    "        cat = data['categories'][i]\n",
    "        amt = data['amounts'][i]\n",
    "        totals[cat] += amt\n",
    "\n",
    "    plt.bar(totals.keys(), totals.values(), color=\"maroon\")\n",
    "    plt.title(\"Expense by Category\")\n",
    "    plt.xticks(rotation=45)\n",
    "    plt.ylabel(\"Amount Spent\")\n",
    "    plt.xlabel(\"Category\")\n",
    "    plt.show()\n",
    "\n",
    "    total_spent = data['monthly_budget'] - data['budget_left']\n",
    "    print(f\"\\nTotal budget: ₹{data['monthly_budget']}\")\n",
    "    print(f\"Total spent: ₹{total_spent}\")\n",
    "    print(f\"Budget left: ₹{data['budget_left']}\")\n",
    "\n",
    "    if data['budget_left']<0:\n",
    "        print('ALERT: You have exceeded your budget! STOP SPENDING MONEY')\n",
    "    elif data['budget_left']<data['monthly_budget']*0.25:\n",
    "        print('CAUTION: You are nearing your budget! Please think before you spend')\n",
    "    else:\n",
    "        print('Good Job! You are managing your budget well')\n"
   ]
  },
  {
   "cell_type": "code",
   "execution_count": null,
   "id": "807b0b12-f612-40cb-bd4d-1d51bf4bd2d8",
   "metadata": {},
   "outputs": [],
   "source": [
    "#use \"add(data)\" to enter expenses"
   ]
  }
 ],
 "metadata": {
  "kernelspec": {
   "display_name": "Python 3 (ipykernel)",
   "language": "python",
   "name": "python3"
  },
  "language_info": {
   "codemirror_mode": {
    "name": "ipython",
    "version": 3
   },
   "file_extension": ".py",
   "mimetype": "text/x-python",
   "name": "python",
   "nbconvert_exporter": "python",
   "pygments_lexer": "ipython3",
   "version": "3.11.7"
  }
 },
 "nbformat": 4,
 "nbformat_minor": 5
}
